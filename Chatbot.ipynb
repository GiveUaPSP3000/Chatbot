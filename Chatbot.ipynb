{
 "cells": [
  {
   "cell_type": "markdown",
   "source": [
    "# 1. Import Library"
   ],
   "metadata": {
    "collapsed": false
   }
  },
  {
   "cell_type": "code",
   "execution_count": 1,
   "outputs": [],
   "source": [
    "from chatterbot import ChatBot\n",
    "from chatterbot.trainers import ChatterBotCorpusTrainer\n",
    "from chatterbot.trainers import ListTrainer\n",
    "import pandas as pd"
   ],
   "metadata": {
    "collapsed": false,
    "pycharm": {
     "name": "#%%\n"
    }
   }
  },
  {
   "cell_type": "markdown",
   "source": [
    "# 2. Basic Usage"
   ],
   "metadata": {
    "collapsed": false
   }
  },
  {
   "cell_type": "markdown",
   "source": [
    "# 2.1. Create a chatter bot called chatbot"
   ],
   "metadata": {
    "collapsed": false
   }
  },
  {
   "cell_type": "code",
   "execution_count": 2,
   "outputs": [],
   "source": [
    "chatbot = ChatBot('chatbot')"
   ],
   "metadata": {
    "collapsed": false,
    "pycharm": {
     "name": "#%%\n"
    }
   }
  },
  {
   "cell_type": "markdown",
   "source": [
    "# 2.2. Build chatterbot trainer"
   ],
   "metadata": {
    "collapsed": false
   }
  },
  {
   "cell_type": "code",
   "execution_count": 3,
   "outputs": [],
   "source": [
    "# Since chatbot has no knowledge now, we create a new trainer for chatbot\n",
    "# There are several ways to train the chatbot. You can explore them in 'chatterbot.trainers'\n",
    "# ChatterBotCorpusTrainer is one of the trainer classes\n",
    "trainer = ChatterBotCorpusTrainer(chatbot)"
   ],
   "metadata": {
    "collapsed": false,
    "pycharm": {
     "name": "#%%\n"
    }
   }
  },
  {
   "cell_type": "markdown",
   "source": [
    "https://github.com/gunthercox/chatterbot-corpus"
   ],
   "metadata": {
    "collapsed": false
   }
  },
  {
   "cell_type": "code",
   "execution_count": 4,
   "outputs": [
    {
     "name": "stdout",
     "output_type": "stream",
     "text": [
      "Training greetings.yml: [#########           ] 44%"
     ]
    },
    {
     "name": "stderr",
     "output_type": "stream",
     "text": [
      "d:\\programdata\\anaconda3\\envs\\python36\\lib\\site-packages\\chatterbot\\corpus.py:59: YAMLLoadWarning: calling yaml.load() without Loader=... is deprecated, as the default Loader is unsafe. Please read https://msg.pyyaml.org/load for full details.\n",
      "  return yaml.load(data_file)\n"
     ]
    },
    {
     "name": "stdout",
     "output_type": "stream",
     "text": [
      "Training greetings.yml: [####################] 100%\r\n"
     ]
    }
   ],
   "source": [
    "# Train the chatbot based on the english corpus.\n",
    "# The corpus is given by the Chatterbot package.\n",
    "# You can also create your own corpus.\n",
    "# Once you train the chatbot with this corpus, annotate the below line with '#' preventing from duplicate training\n",
    "trainer.train(\"chatterbot_corpus.data.english.greetings\")"
   ],
   "metadata": {
    "collapsed": false,
    "pycharm": {
     "name": "#%%\n"
    }
   }
  },
  {
   "cell_type": "markdown",
   "source": [
    "# 2.3. Simple example"
   ],
   "metadata": {
    "collapsed": false
   }
  },
  {
   "cell_type": "code",
   "execution_count": 5,
   "outputs": [
    {
     "name": "stdout",
     "output_type": "stream",
     "text": [
      "Thank you.\n"
     ]
    }
   ],
   "source": [
    "# Get a response to an input statement\n",
    "# If you try to present same questions with several times, you may get different answers. How can it get that?\n",
    "response = chatbot.get_response(\"nice to meet you\")\n",
    "print(response)"
   ],
   "metadata": {
    "collapsed": false,
    "pycharm": {
     "name": "#%%\n"
    }
   }
  },
  {
   "cell_type": "markdown",
   "source": [
    "# 3. Create New Conversation for Chatterbot"
   ],
   "metadata": {
    "collapsed": false
   }
  },
  {
   "cell_type": "code",
   "execution_count": 6,
   "outputs": [
    {
     "name": "stdout",
     "output_type": "stream",
     "text": [
      "Hi\n"
     ]
    }
   ],
   "source": [
    "# Let's see what happens when you ask the chatbot -- Is Sam a good guy?\n",
    "response = chatbot.get_response(\"Is Tengyue a good guy?\")\n",
    "print(response)"
   ],
   "metadata": {
    "collapsed": false,
    "pycharm": {
     "name": "#%%\n"
    }
   }
  },
  {
   "cell_type": "code",
   "execution_count": 7,
   "outputs": [
    {
     "name": "stdout",
     "output_type": "stream",
     "text": [
      "List Trainer: [####################] 100%\r\n"
     ]
    }
   ],
   "source": [
    "# It seemly gives a irrelevant answer for the question. Could you figure out why?\n",
    "# That's because in the greeting corpus, no any conversation about if Sam is a good guy.\n",
    "# So we need to train the chatbot again!\n",
    "# This time we use the ListTrainer to train one conversation\n",
    "\n",
    "trainer = ListTrainer(chatbot)\n",
    "train_list = [\n",
    "    \"Is Tengyue a good guy?\",\n",
    "    \"Certainly Yes!\",\n",
    "    \"Does Tengyue wear glasses?\",\n",
    "    \"Yes\"\n",
    "]\n",
    "trainer.train(train_list)"
   ],
   "metadata": {
    "collapsed": false,
    "pycharm": {
     "name": "#%%\n"
    }
   }
  },
  {
   "cell_type": "code",
   "execution_count": 8,
   "outputs": [
    {
     "name": "stdout",
     "output_type": "stream",
     "text": [
      "Certainly Yes!\n"
     ]
    }
   ],
   "source": [
    "# Let's see what happens this time\n",
    "response = chatbot.get_response(\"Is he a good guy?\")\n",
    "print(response)"
   ],
   "metadata": {
    "collapsed": false,
    "pycharm": {
     "name": "#%%\n"
    }
   }
  },
  {
   "cell_type": "markdown",
   "source": [
    "# 4. Solve a Math Problem by Chatterbot"
   ],
   "metadata": {
    "collapsed": false
   }
  },
  {
   "cell_type": "markdown",
   "source": [
    "# 4.1. Add the math logic_adapters into the attribute 'logic_adapters'"
   ],
   "metadata": {
    "collapsed": false
   }
  },
  {
   "cell_type": "code",
   "execution_count": 9,
   "outputs": [],
   "source": [
    "chatbot = ChatBot('chatbot',\n",
    "                  logic_adapters=[\n",
    "                      'chatterbot.logic.BestMatch',\n",
    "                      'chatterbot.logic.MathematicalEvaluation'\n",
    "                  ])"
   ],
   "metadata": {
    "collapsed": false,
    "pycharm": {
     "name": "#%%\n"
    }
   }
  },
  {
   "cell_type": "markdown",
   "source": [
    "# 4.2. Ask a math question"
   ],
   "metadata": {
    "collapsed": false
   }
  },
  {
   "cell_type": "code",
   "execution_count": 10,
   "outputs": [
    {
     "name": "stdout",
     "output_type": "stream",
     "text": [
      "1 * 1 + 2 - 3 / 5 = 2.4\n"
     ]
    }
   ],
   "source": [
    "# There are several logic_adapters in the chatterbot.logic package. Try explore for more.\n",
    "response = chatbot.get_response(\"1 * 1 + 2 - 3 / 5?\")\n",
    "print(response)"
   ],
   "metadata": {
    "collapsed": false,
    "pycharm": {
     "name": "#%%\n"
    }
   }
  },
  {
   "cell_type": "markdown",
   "source": [
    "# 5. Train an ASD FAQ Bot based on Q&A conversation pairs in ASD FAQ KB v001.xlsx"
   ],
   "metadata": {
    "collapsed": false
   }
  },
  {
   "cell_type": "markdown",
   "source": [
    "# 5.1. Create a ListTrainer for training"
   ],
   "metadata": {
    "collapsed": false
   }
  },
  {
   "cell_type": "code",
   "execution_count": 11,
   "outputs": [],
   "source": [
    "trainer = ListTrainer(chatbot)"
   ],
   "metadata": {
    "collapsed": false,
    "pycharm": {
     "name": "#%%\n"
    }
   }
  },
  {
   "cell_type": "markdown",
   "source": [
    "# 5.2. Load dataset"
   ],
   "metadata": {
    "collapsed": false
   }
  },
  {
   "cell_type": "code",
   "execution_count": 12,
   "outputs": [
    {
     "name": "stdout",
     "output_type": "stream",
     "text": [
      "Number of Q&A Pairs is : 226\n"
     ]
    }
   ],
   "source": [
    "data = pd.read_excel('./ASD FAQ KB v001.xlsx', sheet_name='FAQ', engine='openpyxl')\n",
    "question = data.get('Question')\n",
    "answer = data.get('Long_Answer')\n",
    "print(\"Number of Q&A Pairs is :\", len(data))"
   ],
   "metadata": {
    "collapsed": false,
    "pycharm": {
     "name": "#%%\n"
    }
   }
  },
  {
   "cell_type": "code",
   "execution_count": 13,
   "outputs": [
    {
     "name": "stdout",
     "output_type": "stream",
     "text": [
      "[Q] What are Autism Spectrum Disorders (ASD)? \n",
      "[A] ASD refers to a wide spectrum of neurodevelopmental disorders that affect communication, behavior, and social interaction. Children with ASD have delayed or absent communication skills and may demonstrate repetitive or idiosyncratic use of language. They often have underdeveloped play skills and may engage in repetitive behaviors or adhere to rigid routines. For more information about the warning signs for autism, visit the U.S. Centers for Disease Control and Prevention website at www.cdc.gov/actearly. \n",
      "\n",
      "\n",
      "[Q] How common is autism? \n",
      "[A] According to a 2020 report commissioned by the U.S. Centers for Disease Control and Prevention, approximately one in 54 American children has been diagnosed with autism or a closely related neurodevelopmental disorder—a dramatic increase over the past decade. \n",
      "\n",
      "\n",
      "[Q] What causes autism? Can it be cured? \n",
      "[A] The causes of this complex disorder remain uncertain. Instructional methods such as Applied Behavior Analysis have proven effective in helping individuals with autism learn to overcome many of the challenges that autism presents. These interventions have proven particularly effective when started during the first several years of a child’s life. \n",
      "\n",
      "\n"
     ]
    }
   ],
   "source": [
    "# Display first few Q&A:\n",
    "for i in range(0, 3):\n",
    "    print('[Q]', question[i], '\\n[A]', answer[i], '\\n\\n')"
   ],
   "metadata": {
    "collapsed": false,
    "pycharm": {
     "name": "#%%\n"
    }
   }
  },
  {
   "cell_type": "markdown",
   "source": [
    "# 5.3. Iteratively learning/storing the question and answer (into Sqlite DB)"
   ],
   "metadata": {
    "collapsed": false
   }
  },
  {
   "cell_type": "markdown",
   "source": [
    "### Prepare training Q&A pairs as python list:"
   ],
   "metadata": {
    "collapsed": false
   }
  },
  {
   "cell_type": "code",
   "execution_count": 14,
   "outputs": [
    {
     "data": {
      "text/plain": "['What are Autism Spectrum Disorders (ASD)?',\n 'ASD refers to a wide spectrum of neurodevelopmental disorders that affect communication, behavior, and social interaction. Children with ASD have delayed or absent communication skills and may demonstrate repetitive or idiosyncratic use of language. They often have underdeveloped play skills and may engage in repetitive behaviors or adhere to rigid routines. For more information about the warning signs for autism, visit the U.S. Centers for Disease Control and Prevention website at www.cdc.gov/actearly.',\n 'How common is autism?',\n 'According to a 2020 report commissioned by the U.S. Centers for Disease Control and Prevention, approximately one in 54 American children has been diagnosed with autism or a closely related neurodevelopmental disorder—a dramatic increase over the past decade.',\n 'What causes autism? Can it be cured?',\n 'The causes of this complex disorder remain uncertain. Instructional methods such as Applied Behavior Analysis have proven effective in helping individuals with autism learn to overcome many of the challenges that autism presents. These interventions have proven particularly effective when started during the first several years of a child’s life.']"
     },
     "execution_count": 14,
     "metadata": {},
     "output_type": "execute_result"
    }
   ],
   "source": [
    "train_list = []\n",
    "for i in range(len(question)):\n",
    "    train_list.append(question[i])\n",
    "    train_list.append(answer[i])\n",
    "\n",
    "train_list[0:6] # Display first few Q&A in list form:"
   ],
   "metadata": {
    "collapsed": false,
    "pycharm": {
     "name": "#%%\n"
    }
   }
  },
  {
   "cell_type": "markdown",
   "source": [
    "### Training/Learning:"
   ],
   "metadata": {
    "collapsed": false
   }
  },
  {
   "cell_type": "code",
   "execution_count": 15,
   "outputs": [
    {
     "name": "stdout",
     "output_type": "stream",
     "text": [
      "List Trainer: [####################] 100%\r\n"
     ]
    }
   ],
   "source": [
    "trainer.train(train_list)"
   ],
   "metadata": {
    "collapsed": false,
    "pycharm": {
     "name": "#%%\n"
    }
   }
  },
  {
   "cell_type": "markdown",
   "source": [
    "### Now user can interact with our trained/learnt ASD FAQ Bot"
   ],
   "metadata": {
    "collapsed": false
   }
  },
  {
   "cell_type": "code",
   "execution_count": 16,
   "outputs": [
    {
     "name": "stdout",
     "output_type": "stream",
     "text": [
      "Autism spectrum disorders (ASDs) represent a range of brain disorders that are characterized by restricted patterns of behavior and impairments in social communication and interactions. These disorders share common origins and features, but are classified as spectrum disorders because symptoms and severity vary among individuals.\n"
     ]
    }
   ],
   "source": [
    "response = chatbot.get_response(\"What is autism spectrum disorder?\")\n",
    "print(response)"
   ],
   "metadata": {
    "collapsed": false,
    "pycharm": {
     "name": "#%%\n"
    }
   }
  },
  {
   "cell_type": "code",
   "execution_count": 17,
   "outputs": [
    {
     "name": "stdout",
     "output_type": "stream",
     "text": [
      "According to a 2020 report commissioned by the U.S. Centers for Disease Control and Prevention, approximately one in 54 American children has been diagnosed with autism or a closely related neurodevelopmental disorder—a dramatic increase over the past decade.\n"
     ]
    }
   ],
   "source": [
    "response = chatbot.get_response(\"How common is autism spectrum disorder?\")\n",
    "print(response)\n"
   ],
   "metadata": {
    "collapsed": false,
    "pycharm": {
     "name": "#%%\n"
    }
   }
  }
 ],
 "metadata": {
  "kernelspec": {
   "display_name": "Python 3",
   "language": "python",
   "name": "python3"
  },
  "language_info": {
   "codemirror_mode": {
    "name": "ipython",
    "version": 2
   },
   "file_extension": ".py",
   "mimetype": "text/x-python",
   "name": "python",
   "nbconvert_exporter": "python",
   "pygments_lexer": "ipython2",
   "version": "2.7.6"
  }
 },
 "nbformat": 4,
 "nbformat_minor": 0
}